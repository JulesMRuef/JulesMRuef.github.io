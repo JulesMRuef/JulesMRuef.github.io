import os
import warnings

import earthpy as et
import geopandas as gpd
import geoviews as gv
import holoviews as hv
import hvplot.pandas
import pandas as pd
import pyogrio


# Download the states data
states_url = "https://www2.census.gov/geo/tiger/TIGER2020/STATE/tl_2020_us_state.zip"
states_dir = et.data.get_data(url=states_url)
states_path = os.path.join(states_dir, 'tl_2020_us_state.shp')
states_gdf = gpd.read_file(states_path)


# Download the fire data (assuming you already have the URL)
fire_url = "https://www.fs.usda.gov/rds/archive/products/RDS-2013-0009.6/RDS-2013-0009.6_Data_Format2_GDB.zip"
fire_dir = et.data.get_data(url=fire_url)
fire_path = os.path.join(fire_dir, 'Data', 'FPA_FOD_20221014.gdb')
fire_gdf = pyogrio.read_dataframe(fire_path, layer='Fires')


# Clean and process the fire data (same as before)
fire_clean_gdf = (
    fire_gdf
    [['FOD_ID' , 'DISCOVERY_DATE' , 'FIRE_SIZE', 'geometry']]
    .set_index('FOD_ID')
)

fire_clean_gdf.DISCOVERY_DATE = pd.to_datetime(fire_clean_gdf.DISCOVERY_DATE)
fire_clean_gdf = fire_clean_gdf.to_crs(states_gdf.crs)
